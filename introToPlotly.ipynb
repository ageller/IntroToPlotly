{
 "cells": [
  {
   "cell_type": "markdown",
   "id": "468c918a",
   "metadata": {},
   "source": [
    "# Introduction to [Plotly](https://plotly.com/)\n",
    "\n",
    "Plotly is a versatile interactive plotting package that can be used with Python and Javascript and also through an online editor (without the need for coding). "
   ]
  },
  {
   "cell_type": "markdown",
   "id": "3e2a3d61",
   "metadata": {},
   "source": [
    "## Why/When to use Plotly (my 2 cents)\n",
    "\n",
    "If you already know Python and you don't really want to learn another coding language, but you do want to create interactive figures (e.g., within a Jupyter notebook and/or for use on a website), you should look into Plotly.  \n",
    "\n",
    "In particular, [Plotly express](https://plotly.com/python/plotly-express/) is a fantastic tool for generating quick interactive figures without much code.  Plotly express covers a good amount of ground, and you may be able to do all/most your work within Plotly express, depending on your specific needs.  In this workshop, I'll show you Plotly express, but then move beyond it for the majority of the content.  \n",
    "\n",
    "Though you can do a lot with Plotly, it definitely has limitations (some of which we'll see in this workshop). Also, as with all of the ready-made interactive plot solutions (e.g., [Bokeh](https://docs.bokeh.org/en/latest/), [Altair](https://altair-viz.github.io/), [Glue](https://glueviz.org/), etc.), Plotly has a specific look, which can only be tweaked to a certain extent.  If you like the look well enough and you don't mind the limitations, then it's a good choice. "
   ]
  },
  {
   "cell_type": "markdown",
   "id": "186f554f",
   "metadata": {},
   "source": [
    "##  In this tutorial... \n",
    "\n",
    "We will explore the basics of the Python version, using COVID-19 data from the following sources:\n",
    "\n",
    "- COVID-19 data from the WHO: https://covid19.who.int/info/ \n",
    "- GDP Data from the World Bank: https://data.worldbank.org/indicator/NY.GDP.MKTP.CD\n",
    "\n",
    "I will make two plots, one comparing COVID-19 data to GDPs and another showing COVID-19 data as a function of time."
   ]
  },
  {
   "cell_type": "markdown",
   "id": "477836f9",
   "metadata": {},
   "source": [
    "## Installation\n",
    "\n",
    "I recommend installing Python using [miniforge](https://github.com/conda-forge/miniforge).  Then you can create and activate a new environment for this workshop by typing the following commands into your (bash) terminal.\n",
    "\n",
    "```\n",
    "$ conda create -n plotly-env python=3.9 jupyter pandas plotly statsmodels\n",
    "$ conda activate plotly-env\n",
    "```"
   ]
  },
  {
   "cell_type": "markdown",
   "id": "43607b2d",
   "metadata": {},
   "source": [
    "## Import the relevant packages that we will use."
   ]
  },
  {
   "cell_type": "code",
   "execution_count": null,
   "id": "d0fb03a9",
   "metadata": {},
   "outputs": [],
   "source": [
    "import pandas as pd\n",
    "import numpy as np\n",
    "import scipy.stats\n",
    "\n",
    "import plotly.graph_objects as go\n",
    "from plotly.subplots import make_subplots\n",
    "import plotly.express as px"
   ]
  },
  {
   "cell_type": "markdown",
   "id": "0797eb4a",
   "metadata": {},
   "source": [
    "## 1. Read in the data.\n",
    "\n"
   ]
  },
  {
   "cell_type": "markdown",
   "id": "485593a8",
   "metadata": {},
   "source": [
    "### 1.1 GDP and vaccine data\n",
    "\n",
    "I will join multiple data tables together, using the `pandas` package so that I have one DataFrame containing all values for a given country."
   ]
  },
  {
   "cell_type": "code",
   "execution_count": null,
   "id": "28f1efd5-1aae-41f2-82ca-fddba4d8f874",
   "metadata": {},
   "outputs": [],
   "source": [
    "# for pandas to read from url\n",
    "storage_options = {'User-Agent': 'Mozilla/5.0'}"
   ]
  },
  {
   "cell_type": "code",
   "execution_count": null,
   "id": "ebbcbfd1",
   "metadata": {},
   "outputs": [],
   "source": [
    "# Current cumulative COVID-19 data from the WHO. \n",
    "# dfCT = pd.read_csv('../data/WHO-COVID/WHO-COVID-19-global-table-data.csv') # in case the WHO server goes down\n",
    "dfCT = pd.read_csv('https://covid19.who.int/WHO-COVID-19-global-table-data.csv', storage_options=storage_options)\n",
    "dfCT"
   ]
  },
  {
   "cell_type": "code",
   "execution_count": null,
   "id": "b8e579d5",
   "metadata": {},
   "outputs": [],
   "source": [
    "# Current vaccination data from the WHO\n",
    "# dfV = pd.read_csv('../data/WHO-COVID/vaccination-data.csv') # in case the WHO server goes down\n",
    "dfV = pd.read_csv('https://covid19.who.int/who-data/vaccination-data.csv', storage_options=storage_options)\n",
    "dfV"
   ]
  },
  {
   "cell_type": "code",
   "execution_count": null,
   "id": "feb2866a",
   "metadata": {},
   "outputs": [],
   "source": [
    "# Vaccination metadata from the WHO; this file contains the start dates (and end dates) for vaccines for each country. \n",
    "# dfVM = pd.read_csv('../data/WHO-COVID/vaccination-metadata.csv') # in case the WHO server goes down\n",
    "dfVM = pd.read_csv('https://covid19.who.int/who-data/vaccination-metadata.csv', storage_options=storage_options)\n",
    "\n",
    "# drop columns without a start date\n",
    "dfVM.dropna(subset = ['START_DATE'], inplace = True)\n",
    "\n",
    "# convert the date columns to datetime objects for easier plotting and manipulation later on\n",
    "dfVM['AUTHORIZATION_DATE'] = pd.to_datetime(dfVM['AUTHORIZATION_DATE'])\n",
    "dfVM['START_DATE'] = pd.to_datetime(dfVM['START_DATE'])\n",
    "dfVM['END_DATE'] = pd.to_datetime(dfVM['END_DATE'])\n",
    "\n",
    "# I will simplify this table to just take the earliest start date for a given country\n",
    "# sort by the start date and country code\n",
    "dfVM.sort_values(['START_DATE', 'ISO3'], ascending = (True, True), inplace = True)\n",
    "# take only the first entry for a given country\n",
    "dfVM.drop_duplicates(subset = 'ISO3', keep = 'first', inplace = True)\n",
    "\n",
    "dfVM"
   ]
  },
  {
   "cell_type": "code",
   "execution_count": null,
   "id": "28382e95",
   "metadata": {},
   "outputs": [],
   "source": [
    "# GDP data from the World Bank (the first three rows do not contain data)\n",
    "# I don't think there's a direct link to this data on their server (but I didn't look very hard)\n",
    "dfM = pd.read_csv('data/WorldBank/API_NY.GDP.MKTP.CD_DS2_en_csv_v2_6011335.csv', skiprows = 3)\n",
    "dfM"
   ]
  },
  {
   "cell_type": "code",
   "execution_count": null,
   "id": "5de62021",
   "metadata": {},
   "outputs": [],
   "source": [
    "# Join these 4 tables so that I have one DataFrame with all values for a given country.\n",
    "# I will start by joining the two vaccination data tables.\n",
    "dfJ1 = dfV.join(dfVM.set_index('ISO3'), on = 'ISO3', how = 'left', rsuffix = '_meta')\n",
    "\n",
    "# Next I will join this with the COVID-19 data table.\n",
    "# First rename this column in the COVID-19 data so that it is the same as the vaccine data.  Then I will join on that column.\n",
    "dfCT.rename(columns = {'Name':'COUNTRY'}, inplace = True)\n",
    "dfJ2 = dfJ1.join(dfCT.set_index('COUNTRY'), on = 'COUNTRY', how = 'left')\n",
    "\n",
    "# Finally, I will join in the GDP data from the World Bank.\n",
    "# I will rename a column in the World Bank data to match a column in the joined data above.\n",
    "dfM.rename(columns = {'Country Code':'ISO3'}, inplace = True)\n",
    "dfJoinedCOVID = dfJ2.join(dfM.set_index('ISO3'), on = 'ISO3', how = 'left')\n",
    "\n",
    "dfJoinedCOVID"
   ]
  },
  {
   "cell_type": "code",
   "execution_count": null,
   "id": "3c5db54d",
   "metadata": {},
   "outputs": [],
   "source": [
    "print(dfJoinedCOVID.columns.tolist())"
   ]
  },
  {
   "cell_type": "markdown",
   "id": "7a9615a2",
   "metadata": {},
   "source": [
    "### 1.2 COVID cases and deaths as a function of time "
   ]
  },
  {
   "cell_type": "code",
   "execution_count": null,
   "id": "800ee243",
   "metadata": {},
   "outputs": [],
   "source": [
    "# COVID-19 cases and deaths as a function of time for multiple countries\n",
    "# dfC = pd.read_csv('../data/WHO-COVID/WHO-COVID-19-global-data.csv') # in case the WHO server goes down\n",
    "dfC = pd.read_csv('https://covid19.who.int/WHO-COVID-19-global-data.csv', storage_options=storage_options)\n",
    "\n",
    "# convert the date column to datetime objects for easier plotting and manipulation later on\n",
    "dfC['Date_reported'] = pd.to_datetime(dfC['Date_reported'])\n",
    "dfC['Date_reported_yr'] = dfC['Date_reported'].dt.year + dfC['Date_reported'].dt.dayofyear/365\n",
    "dfC"
   ]
  },
  {
   "cell_type": "code",
   "execution_count": null,
   "id": "5a3a8f8d",
   "metadata": {},
   "outputs": [],
   "source": [
    "# Select only the data that is from a single country\n",
    "country = 'United States of America'\n",
    "dfCCountry = dfC.loc[dfC['Country'] == country]\n",
    "dfCCountry"
   ]
  },
  {
   "cell_type": "markdown",
   "id": "62d9c5eb",
   "metadata": {},
   "source": [
    "## 2. Create a few figures using [Plotly express](https://plotly.com/python/plotly-express/).\n",
    "\n",
    "Plotly express is a simplified version of the Plotly interface for Python that allows users to create many types of Plotly figures with single lines of code.  This greatly simplifies the workflow for some kinds of Plotly figures.  We will start with Plotly express (and for some of your use cases, that may be enough), but we will move on to full blown Plotly for the rest of this workshop."
   ]
  },
  {
   "cell_type": "markdown",
   "id": "9242591b",
   "metadata": {},
   "source": [
    "In this plot, I will show total vaccinations vs. GDP with the point size scaled by the total cumulative COVID-19 cases.  "
   ]
  },
  {
   "cell_type": "code",
   "execution_count": null,
   "id": "ffcd8524",
   "metadata": {},
   "outputs": [],
   "source": [
    "# Note: We imported plotly.express as px\n",
    "# I will create a simple scatter plot using the DataFrame I created above, \n",
    "# x will be the total vaccinations per 100 people\n",
    "# y will be the 2020 GDP, and since it spans a very wide range in values, I will plot y in the log\n",
    "fig = px.scatter(dfJoinedCOVID, x = 'TOTAL_VACCINATIONS_PER100', y = '2020', log_y = True)\n",
    "fig.show()"
   ]
  },
  {
   "cell_type": "markdown",
   "id": "d8b82a29",
   "metadata": {},
   "source": [
    "There are a lot of options that you can apply to a plotly express scatter plot (e.g., see [here](https://plotly.com/python/line-and-scatter/)).  I will do the following:\n",
    "- size each data point by the number of COVID-19 cases.\n",
    "- add a trend line (A nice part of plotly express is that you can add a trend line very easily.)"
   ]
  },
  {
   "cell_type": "code",
   "execution_count": null,
   "id": "106d8019",
   "metadata": {},
   "outputs": [],
   "source": [
    "# The sizes will behave better if I set a minimum value (using np.clip)\n",
    "# I also want to remove any nan values\n",
    "size =  np.clip(np.nan_to_num(dfJoinedCOVID['Cases - cumulative total per 100000 population']/500.), 5, None)\n",
    "\n",
    "fig = px.scatter(dfJoinedCOVID, x = 'TOTAL_VACCINATIONS_PER100', y = '2020', log_y = True, \n",
    "    size = size,\n",
    "    trendline = 'ols', trendline_options = dict(log_y = True)\n",
    ")\n",
    "fig.show()"
   ]
  },
  {
   "cell_type": "markdown",
   "id": "175c6362",
   "metadata": {},
   "source": [
    "Lets also plot the first vaccination start date vs. GDP, with the size based on the total vaccionations.  In this example, I will also modify the hover and axis attributes."
   ]
  },
  {
   "cell_type": "code",
   "execution_count": null,
   "id": "5bc7f055",
   "metadata": {},
   "outputs": [],
   "source": [
    "# The command is similar to that from the previous cell, but here I'm also defining the data shown on hover in the tooltips.\n",
    "# (It's not quite as easy to add a trendline here when plotting dates, though it is possible.)\n",
    "\n",
    "size = np.clip(np.nan_to_num(dfJoinedCOVID['TOTAL_VACCINATIONS_PER100']),5,None)\n",
    "\n",
    "fig = px.scatter(dfJoinedCOVID, x = 'START_DATE', y = '2020', log_y = True, \n",
    "    size = size,\n",
    "    hover_name = 'COUNTRY', \n",
    "    hover_data = ['2020', \n",
    "      'START_DATE', \n",
    "      'TOTAL_VACCINATIONS_PER100',\n",
    "      'Cases - cumulative total per 100000 population'\n",
    "    ]\n",
    ")\n",
    "\n",
    "# a few manipulations to the axes \n",
    "fig.update_xaxes(title = 'Vaccine Start Date', range = [np.datetime64('2020-07-01'), np.datetime64('2023-08-01')])\n",
    "fig.update_yaxes(title = '2020 GDP (USD)')\n",
    "\n",
    "fig.show()"
   ]
  },
  {
   "cell_type": "markdown",
   "id": "e54cf4d3",
   "metadata": {},
   "source": [
    "As an alternative example, let's also [create a histogram using plotly express](https://plotly.com/python/histograms/).\n",
    "\n",
    "I will plot a histogram of all the total vaccinations per 100 people, separated (colored) by vaccination name.\n",
    "\n",
    "*Note that this automatically comes with an interactive legend.*"
   ]
  },
  {
   "cell_type": "code",
   "execution_count": null,
   "id": "157752fb",
   "metadata": {},
   "outputs": [],
   "source": [
    "fig = px.histogram(dfJoinedCOVID.fillna('None'), x = 'TOTAL_VACCINATIONS_PER100', nbins = 20, \n",
    "                   color = 'VACCINE_NAME', barmode = 'stack')\n",
    "fig.show()"
   ]
  },
  {
   "cell_type": "markdown",
   "id": "bdebd328",
   "metadata": {},
   "source": [
    "### *Exercise 1: Create your own plot using Plotly express.*\n",
    "\n",
    "Use the data we read in above (or your own data).  You can start with one of the commands above or choose a different style of plot.  Whichever format you use, choose different columns to plot than above.  Try to also add a new option to the command to change the plot.  \n",
    "\n",
    "Hint: Go to the [Plotly express homepage](https://plotly.com/python/plotly-express/), and click on a link to see many examples (e.g., [here's the page for the scatter plot](https://plotly.com/python/line-and-scatter/))"
   ]
  },
  {
   "cell_type": "code",
   "execution_count": null,
   "id": "736c603e",
   "metadata": {},
   "outputs": [],
   "source": [
    "# Create a plot using Plotly express\n"
   ]
  },
  {
   "cell_type": "markdown",
   "id": "b3a07e64",
   "metadata": {},
   "source": [
    "## 3. Create a Ploty express [animation](https://plotly.com/python/animations/)\n",
    "\n",
    "Let's show the cumulative cases and deaths over time"
   ]
  },
  {
   "cell_type": "code",
   "execution_count": null,
   "id": "4e9dcf7c",
   "metadata": {},
   "outputs": [],
   "source": [
    "px.scatter(dfC, x  =\"New_cases\", y = \"New_deaths\", animation_frame = \"Date_reported_yr\", animation_group = \"Country\",\n",
    "    size = \"Cumulative_deaths\", color = \"WHO_region\", hover_name = \"Country\", size_max = 70,\n",
    "    log_x = True, log_y = True,  range_x = [10,1e7], range_y = [1,1e5], height = 600\n",
    ")"
   ]
  },
  {
   "cell_type": "markdown",
   "id": "ba3dae9d",
   "metadata": {},
   "source": [
    "## 4. Create the plot using the standard Plotly [Graph Object](https://plotly.com/python/graph-objects/).\n",
    "\n",
    "For the remainder of the workshop we will use Graph Objects for our Plotly figures.  Plotly Graph Objects give you much more flexibility in how the figure looks and the type of interactions you can include.  For instance, Plotly express will only make an individual figure, and does not support arbitrary subplots.  If you want a multi-panel figure (e.g., to share an axis and zoom together), you can do this with Graph Objects.  Also, Graph Objects enable more complex interaction with custom widgets, e.g., buttons and dropdowns. \n",
    "\n",
    "First you create a <b>\"trace\"</b>, which holds the data.  There are many kinds of traces available in Plotly. (e.g., bar, scatter, etc.).  For this first example, we will use a scatter trace.  (Interestingly, the scatter trace object also includes line traces, accessed by changing the \"mode\" key.)\n",
    "\n",
    "Then you create a figure and add the trace to that figure.  A single figure can have multiple traces."
   ]
  },
  {
   "cell_type": "code",
   "execution_count": null,
   "id": "bacf50fe",
   "metadata": {},
   "outputs": [],
   "source": [
    "# Create a plot using Plotly Graph Objects(s)\n",
    "\n",
    "# Note: We imported the plotly.graph_objects as go.\n",
    "# create the trace\n",
    "trace1 = go.Scatter(x = dfJoinedCOVID['TOTAL_VACCINATIONS_PER100'], y = dfJoinedCOVID['2020'], # x and y values for the plot\n",
    "    mode = 'markers', # setting mode to markers produces a typical scatter plot\n",
    ")\n",
    "\n",
    "# create the figure \n",
    "fig = go.Figure()\n",
    "\n",
    "# add the trace and update a few parameters for the axes\n",
    "fig.add_trace(trace1)\n",
    "fig.update_xaxes(title = 'Total Vaccionations Per 100 People', range=[0,400])\n",
    "fig.update_yaxes(title = 'GDP (USD)', type = 'log')\n",
    "fig.update_layout(height = 600)\n",
    "\n",
    "fig.show()"
   ]
  },
  {
   "cell_type": "markdown",
   "id": "422937dd",
   "metadata": {},
   "source": [
    "### *Exercise 2: Create your own plot using Plotly Graph Object(s).*\n",
    "\n",
    "Use the data we read in above (or your own data).  You can start with one of the commands above or choose a different style of plot.  Whichever format you use, choose different columns to plot than above.  Try to also add a new option to the command to change the plot.  \n",
    "\n",
    "*Hint*: The Plotly help pages usually contain examples for both Plotly express and Graph Object.  If you go to the [Plotly express homepage](https://plotly.com/python/plotly-express/) and click on a link (e.g., [the page for the scatter plot](https://plotly.com/python/line-and-scatter/)), you can scroll down to see Graph Object examples."
   ]
  },
  {
   "cell_type": "code",
   "execution_count": null,
   "id": "e92f0920",
   "metadata": {},
   "outputs": [],
   "source": [
    "# Create a plot using Plotly Graph Objects(s)\n",
    "\n",
    "# First, create the trace\n",
    "\n",
    "# Second, create the figure and show it\n"
   ]
  },
  {
   "cell_type": "markdown",
   "id": "8f6022ef",
   "metadata": {},
   "source": [
    "### Let's add more customizations to the figure above."
   ]
  },
  {
   "cell_type": "code",
   "execution_count": null,
   "id": "f64ee26c",
   "metadata": {},
   "outputs": [],
   "source": [
    "# Note: We imported the plotly.graph_objects as go.\n",
    "# create the trace and set various parameters\n",
    "\n",
    "trace1 = go.Scatter(x = dfJoinedCOVID['TOTAL_VACCINATIONS_PER100'], y = dfJoinedCOVID['2020'], # x and y values for the plot\n",
    "    mode = 'markers', # setting mode to markers produces a typical scatter plot\n",
    "    showlegend = False, # I do not need a legend\n",
    "    # set various parameters for the markers in the following dict, e.g., color, opacity, size, outline, etc.\n",
    "    marker = dict( \n",
    "        color = 'rgba(0, 0, 0, 0.2)',\n",
    "        opacity = 1,\n",
    "        size = np.nan_to_num(np.clip(dfJoinedCOVID['Cases - cumulative total per 100000 population']/1000., 5, 100)),\n",
    "        line = dict(\n",
    "            color = 'rgba(0, 0, 0, 1)',\n",
    "            width = 1\n",
    "        ),\n",
    "    ),\n",
    "    # set a template for the tooltips below.  \n",
    "    # hovertemplate can accept the x and y data and additional \"text\" as defined by a separate input\n",
    "    # Note, the \"<extra></extra>\" is included to remove some formatting that plotly imposes on tooltips\n",
    "    hovertemplate = '%{text}' + \n",
    "        'Total Vaccinations / 100 people: %{x}<br><extra></extra>' +\n",
    "        'GDP: $%{y}<br>',\n",
    "    # additional text to add to the hovertemplate.  This needs to be a list with the same length and the x and y data.\n",
    "    text = ['Country: {}<br>Total COVID Cases / 100,000 people: {}<br>Vaccine start date: {}<br>'.format(x1, x2, x3) \n",
    "        for (x1, x2, x3) in zip(dfJoinedCOVID['COUNTRY'], \n",
    "            dfJoinedCOVID['Cases - cumulative total per 100000 population'], \n",
    "            dfJoinedCOVID['START_DATE'].dt.strftime('%b %Y'))\n",
    "    ],\n",
    "    # style the tooltip as desired                \n",
    "    hoverlabel = dict(\n",
    "        bgcolor = 'white',\n",
    "    )\n",
    ")"
   ]
  },
  {
   "cell_type": "code",
   "execution_count": null,
   "id": "56542d3b",
   "metadata": {},
   "outputs": [],
   "source": [
    "# create the figure\n",
    "fig = go.Figure()\n",
    "\n",
    "# add the trace and update a few parameters for the axes\n",
    "fig.add_trace(trace1)\n",
    "fig.update_xaxes(title = 'Total Vaccionations Per 100 People', range=[0,400])\n",
    "fig.update_yaxes(title = 'GDP (USD)', type = 'log')\n",
    "fig.update_layout(height = 600)\n",
    "\n",
    "fig.show()"
   ]
  },
  {
   "cell_type": "code",
   "execution_count": null,
   "id": "024ac188",
   "metadata": {},
   "outputs": [],
   "source": [
    "# Add a trendline\n",
    "# I will use scipy.stats.linregress (and fit to the log of the GDP)\n",
    "dfFit1 = dfJoinedCOVID.dropna(subset = ['TOTAL_VACCINATIONS_PER100', '2020'])\n",
    "slope1, intercept1, r1, p1, se1 = scipy.stats.linregress(dfFit1['TOTAL_VACCINATIONS_PER100'], np.log10(dfFit1['2020']))\n",
    "xFit1 = np.linspace(0, 400, 100)\n",
    "yFit1 = 10.**(slope1*xFit1 + intercept1)\n",
    "trace1F = go.Scatter(x = xFit1, y = yFit1, \n",
    "    mode = 'lines', # Set the mode the lines (rather than markers) to show a line.\n",
    "    opacity = 1, \n",
    "    marker_color = 'black',\n",
    "    showlegend = False,\n",
    "    hoverinfo='skip' # Don't show anything on hover.  (We could show the trendline info, but I'll leave that out for now.)\n",
    ")"
   ]
  },
  {
   "cell_type": "code",
   "execution_count": null,
   "id": "5af30d0a",
   "metadata": {},
   "outputs": [],
   "source": [
    "# create the figure\n",
    "fig = go.Figure()\n",
    "\n",
    "# add the trace and update a few parameters for the axes\n",
    "fig.add_trace(trace1)\n",
    "fig.add_trace(trace1F)\n",
    "fig.update_xaxes(title = 'Total Vaccionations Per 100 People', range=[0,400])\n",
    "fig.update_yaxes(title = 'GDP (USD)', type = 'log')\n",
    "fig.update_layout(\n",
    "    autosize = False,\n",
    "    width = 500,\n",
    "    height = 500,\n",
    "    margin = dict(l = 50, r = 10, b = 50, t = 30, pad = 4)\n",
    ")\n",
    "fig.show()"
   ]
  },
  {
   "cell_type": "markdown",
   "id": "1d82adb9",
   "metadata": {
    "scrolled": true
   },
   "source": [
    "## 5. Create a plot showing COVID-19 cases and deaths vs. time for a given country.\n",
    "\n",
    "Recall that we read in this dataset above. \n",
    "\n",
    "I will also include [custom buttons](https://plotly.com/python/custom-buttons/) to toggle between various ways of viewing the data and a [custom dropdown](https://plotly.com/python/dropdowns/) to select the country."
   ]
  },
  {
   "cell_type": "code",
   "execution_count": null,
   "id": "91a4e4c6",
   "metadata": {},
   "outputs": [],
   "source": [
    "# Create the trace.\n",
    "# In this example I will use a bar chart.\n",
    "trace3 = go.Bar(x = dfCCountry['Date_reported'], y = dfCCountry['New_cases'], \n",
    "    opacity = 1, \n",
    "    marker_color = 'black',\n",
    "    showlegend = False,\n",
    "    name = 'COVID Cases'\n",
    ")\n",
    "\n",
    "# Create the figure.\n",
    "fig = go.Figure()\n",
    "\n",
    "# Add the trace and update a few parameters for the axes.\n",
    "fig.add_trace(trace3)\n",
    "fig.update_xaxes(title = 'Date')\n",
    "fig.update_yaxes(title = 'Total COVID-19 Cases')\n",
    "fig.show()"
   ]
  },
  {
   "cell_type": "markdown",
   "id": "3e990810",
   "metadata": {},
   "source": [
    "#### Let's improve this plot.\n",
    "\n",
    "- I want to take a rolling average (this is easily done with `pandas`).\n",
    "- I'd prefer a filled region rather than bars."
   ]
  },
  {
   "cell_type": "code",
   "execution_count": null,
   "id": "13c0d235",
   "metadata": {},
   "outputs": [],
   "source": [
    "# Define the number of days to use for the rolling average.\n",
    "rollingAve = 7"
   ]
  },
  {
   "cell_type": "code",
   "execution_count": null,
   "id": "dc52b9ba",
   "metadata": {},
   "outputs": [],
   "source": [
    "# Create the trace, using Scatter to create lines and fill the region between the line and y=0.\n",
    "trace3 = go.Scatter(x = dfCCountry['Date_reported'], y = dfCCountry['New_cases'].rolling(rollingAve).mean(), \n",
    "    mode = 'lines', # Set the mode the lines (rather than markers) to show a line.\n",
    "    opacity = 1, \n",
    "    marker_color = 'black',\n",
    "    fill = 'tozeroy',  # This will fill between the line and y=0.\n",
    "    showlegend = False,\n",
    "    name = 'COVID Count',\n",
    "    hovertemplate = 'Date: %{x}<br>Number: %{y}<extra></extra>', #Note: the <extra></extra> removes the trace label.\n",
    ")\n",
    "\n",
    "# Create the figure.\n",
    "fig = go.Figure()\n",
    "\n",
    "# Add the trace and update a few parameters for the axes.\n",
    "fig.add_trace(trace3)\n",
    "fig.update_xaxes(title = 'Date')\n",
    "fig.update_yaxes(title = 'Total COVID-19 Cases')\n",
    "fig.show()"
   ]
  },
  {
   "cell_type": "markdown",
   "id": "449ec169",
   "metadata": {},
   "source": [
    "### *Exercise 3: Create your own plot showing COVID-19 deaths vs. time.*\n",
    "\n",
    "You can use either Plotly express or Graph Objects.  Try to pick a different country than I used above.  Also try to use a different style than I plotted above.  "
   ]
  },
  {
   "cell_type": "code",
   "execution_count": null,
   "id": "8cd33dff",
   "metadata": {},
   "outputs": [],
   "source": [
    "# Create a Plotly figure showing COVID-19 deaths vs. time\n"
   ]
  },
  {
   "cell_type": "markdown",
   "id": "abf35f27",
   "metadata": {},
   "source": [
    "### 5.1. Add buttons to interactively change the plot.\n",
    "\n",
    "I want to be able to toggle between cumulative vs. total as well as cases vs. death.  We can do this with [custom buttons](https://plotly.com/python/custom-buttons/) that will \"restyle\" the plot.  \n",
    "\n",
    "You can also create interactions with buttons and other \"widgets\" using [dash](https://plotly.com/dash/), but we won't go there in this workshop. "
   ]
  },
  {
   "cell_type": "code",
   "execution_count": null,
   "id": "0630c06d",
   "metadata": {},
   "outputs": [],
   "source": [
    "columns = ['New_cases', 'New_deaths', 'Cumulative_cases', 'Cumulative_deaths']\n",
    "\n",
    "#I'm going to write this as a function so that I can reuse it below\n",
    "def createTraces(columns):\n",
    "    # For this scenario, I am going to add each of the 4 traces to the plot but only show one at a time\n",
    "    # Add traces for each column\n",
    "    \n",
    "    traces = [\n",
    "        go.Scatter(x = dfCCountry['Date_reported'], y = dfCCountry[c].rolling(rollingAve).mean(), \n",
    "            mode = 'lines', # Set the mode the lines (rather than markers) to show a line.\n",
    "            opacity = 1, \n",
    "            marker_color = 'black',\n",
    "            fill = 'tozeroy',  # This will fill between the line and y=0.\n",
    "            showlegend = False,\n",
    "            name = 'COVID Count',\n",
    "            hovertemplate = 'Date: %{x}<br>Number: %{y}<extra></extra>', #Note: the <extra></extra> removes the trace label.\n",
    "            visible = i == 0\n",
    "        ) for i, c in enumerate(columns)\n",
    "    ]\n",
    "\n",
    "    \n",
    "    return traces\n",
    "\n",
    "\n",
    "# I'm going to write this as a function so that I can reuse it below\n",
    "# x,y args to position the buttons\n",
    "def createButtons(columns, x = 0.0, y = 1.17):\n",
    "    # create an \"updatemenu\" with buttons for choosing the data to plot that I will add to the figure later\n",
    "\n",
    "    updatemenu = dict(\n",
    "            type = 'buttons',\n",
    "            direction = 'left', # This defines what orientation to include all buttons.  'left' shows them in one row.\n",
    "            buttons = list([\n",
    "                dict(\n",
    "                    # 'args' tells the button what to do when clicked.  \n",
    "                    #     In this case it will change the visibility of the traces\n",
    "                    # 'label' is the text that will be displayed on the button\n",
    "                    # 'method' is the type of action the button will take.\n",
    "                    #    method = 'restyle' allows you to redefine certain preset plot styles (including the visible key).  \n",
    "                    #    See  https://plotly.com/python/custom-buttons/ for different methods and their uses\n",
    "                    args = [{'visible': [i == j for j in range(len(columns))]}], \n",
    "                    label = label.replace('_',' '),\n",
    "                    method = 'restyle' \n",
    "                ) for i, label in enumerate(columns)]),\n",
    "        \n",
    "            showactive = True, # Highlight the active button\n",
    "            # Below is for positioning\n",
    "            x = x, \n",
    "            xanchor = 'left',\n",
    "            y = y,\n",
    "            yanchor = 'top'\n",
    "        )\n",
    "    \n",
    "    return updatemenu"
   ]
  },
  {
   "cell_type": "code",
   "execution_count": null,
   "id": "88c8a2c4",
   "metadata": {},
   "outputs": [],
   "source": [
    "# Create the figure.\n",
    "fig = go.Figure()\n",
    "\n",
    "# create the traces\n",
    "traces = createTraces(columns)\n",
    "\n",
    "# add the traces to the figure\n",
    "for t in traces:\n",
    "    fig.add_trace(t)\n",
    "    \n",
    "# create the buttons and add them to the figure below\n",
    "buttons = createButtons(columns)\n",
    "\n",
    "# Update a few parameters for the axes and add the buttons\n",
    "#   Note: I added a margin to the top ('t') of the plot within fig.update_layout to make room for the buttons.\n",
    "fig.update_xaxes(title = 'Date')#, range = [np.datetime64('2020-03-01'), np.datetime64('2022-01-12')])\n",
    "fig.update_yaxes(title = 'COVID-19 Count')\n",
    "fig.update_layout(\n",
    "    title_text = 'COVID-19 Data Explorer : '+ country + '<br>(' + str(rollingAve) +'-day rolling average)',\n",
    "    margin = dict(t = 200),\n",
    "    height = 600,\n",
    "    updatemenus = [buttons]\n",
    ")\n",
    "\n",
    "fig.show()"
   ]
  },
  {
   "cell_type": "markdown",
   "id": "258ceec0",
   "metadata": {},
   "source": [
    "### 5.2. Create a dropdown menu to choose the country.\n",
    "\n",
    "[Here are examples of how to include dropdown menus in Plotly](https://plotly.com/python/dropdowns/).  \n",
    "\n",
    "The procedure will be similar to the buttons, but we will use the \"update\" mode (rather than \"restyle\") for the dropdown menu.  Update will allow us to change the data being plotted."
   ]
  },
  {
   "cell_type": "code",
   "execution_count": null,
   "id": "f3a4f4e4",
   "metadata": {},
   "outputs": [],
   "source": [
    "# I am going to create the dropdown list here and then add it to the figure below\n",
    "# I will need to update the x and y data for the time series plot \n",
    "\n",
    "# Identify the countries to use \n",
    "# I will but The United States of America first so that it can be the default country on load (the first button)\n",
    "availableCountries = dfC['Country'].unique().tolist()\n",
    "availableCountries.insert(0, availableCountries.pop(availableCountries.index('United States of America'))) \n",
    "\n",
    "# I will write this as a function as well and then create a new figure in the next cell that uses this function\n",
    "# x,y args to position the dropdown\n",
    "def createDropdown(availableCountries, columns, x = 0.0, y = 1.1):\n",
    "    # create an \"updatemenu\" with a dropdown for choosing the data to plot that I will add to the figure later\n",
    "\n",
    "    dropdown = []\n",
    "    for c in availableCountries:\n",
    "        dropdown.append(dict(\n",
    "            args = [{'x': [dfC.loc[dfC['Country'] == c]['Date_reported']]*len(columns), # the same x values for each trace\n",
    "                     'y': [dfC.loc[dfC['Country'] == c][col].rolling(rollingAve).mean() for col in columns],\n",
    "            }],\n",
    "            label = c,\n",
    "            method = 'update'\n",
    "        ))\n",
    "\n",
    "    updatemenu = dict(\n",
    "        buttons = dropdown,\n",
    "            direction = 'down',\n",
    "            showactive = True,\n",
    "            x = x,\n",
    "            xanchor = 'left',\n",
    "            y = y,\n",
    "            yanchor = 'top'\n",
    "        )\n",
    "        \n",
    "\n",
    "    return updatemenu"
   ]
  },
  {
   "cell_type": "code",
   "execution_count": null,
   "id": "0d3e6c1d",
   "metadata": {},
   "outputs": [],
   "source": [
    "# Create the figure.\n",
    "fig = go.Figure()\n",
    "\n",
    "# create the traces\n",
    "traces = createTraces(columns)\n",
    "\n",
    "# add the traces to the figure\n",
    "for t in traces:\n",
    "    fig.add_trace(t)\n",
    "\n",
    "# generate the menus to be added to the figure below\n",
    "updatemenus = [createButtons(columns, 0, 1.35), createDropdown(availableCountries, columns, 0, 1.2)]\n",
    "\n",
    "# Update a few parameters for the axes and add the buttons and dropdown\n",
    "fig.update_xaxes(title = 'Date')#, range = [np.datetime64('2020-03-01'), np.datetime64('2022-01-12')])\n",
    "fig.update_yaxes(title = 'COVID-19 Count')\n",
    "fig.update_layout(\n",
    "    title_text = 'COVID-19 Data Explorer : '+ country + '<br>(' + str(rollingAve) +'-day rolling average)',\n",
    "    title_y = 0.95,\n",
    "    margin = dict(t = 200),\n",
    "    height = 600,\n",
    "    updatemenus = updatemenus\n",
    ")\n",
    "\n",
    "fig.show()"
   ]
  },
  {
   "cell_type": "code",
   "execution_count": null,
   "id": "93d5395e",
   "metadata": {},
   "outputs": [],
   "source": [
    "# You can save the plotly figure as an html file to use on your website.\n",
    "fig.write_html('plotly_graph.html')"
   ]
  },
  {
   "cell_type": "markdown",
   "id": "5a6dc95a",
   "metadata": {},
   "source": [
    "# Extensions\n",
    "\n",
    "Developing UI elements in `plotly` is cumbersome.  Here are a couple alternative options that can be used with `plotly` to streamline the code and enable a more robust user experience.\n",
    "\n",
    "- [dash](https://dash.plotly.com/)\n",
    "- [Shiny for Python](https://shiny.posit.co/py/)"
   ]
  },
  {
   "cell_type": "code",
   "execution_count": null,
   "id": "a8e0de85",
   "metadata": {},
   "outputs": [],
   "source": []
  }
 ],
 "metadata": {
  "kernelspec": {
   "display_name": "Python 3 (ipykernel)",
   "language": "python",
   "name": "python3"
  },
  "language_info": {
   "codemirror_mode": {
    "name": "ipython",
    "version": 3
   },
   "file_extension": ".py",
   "mimetype": "text/x-python",
   "name": "python",
   "nbconvert_exporter": "python",
   "pygments_lexer": "ipython3",
   "version": "3.10.9"
  }
 },
 "nbformat": 4,
 "nbformat_minor": 5
}
